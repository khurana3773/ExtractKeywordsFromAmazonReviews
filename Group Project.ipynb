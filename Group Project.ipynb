{
 "cells": [
  {
   "cell_type": "code",
   "execution_count": null,
   "metadata": {},
   "outputs": [],
   "source": [
    "import os, json\n",
    "import pandas as pd\n",
    "\n",
    "from rake_nltk import Rake\n",
    "import operator\n",
    "\n",
    "from nltk.stem import WordNetLemmatizer\n",
    "wordnet_lemmatizer = WordNetLemmatizer()\n",
    "from nltk.corpus import wordnet as wn\n",
    "\n",
    "#verbs = {x.name().split('.', 1)[0] for x in wn.all_synsets('v')}\n",
    "\n",
    "rakeObj = Rake() \n",
    "bigDict ={\"test\":123}\n",
    "\n",
    "def appendDicts(bigDict1,sortedDict1):\n",
    "    for key, value in sortedDict1.items():\n",
    "        if key in bigDict:\n",
    "            bigDict1[key] = bigDict1[key] + value\n",
    "        else:\n",
    "            bigDict1[key] = value\n",
    "    return bigDict1;\n",
    "\n",
    "def lemmatizedDict(sortedDict):\n",
    "    retDict = {\"test\":-1}\n",
    "    for key, value in sortedDict.items():\n",
    "        lowerKey = key.lower()\n",
    "        lemmatizedKey = wordnet_lemmatizer.lemmatize(lowerKey)\n",
    "        if lemmatizedKey in retDict:\n",
    "            retDict[lemmatizedKey] = retDict[lemmatizedKey] + value\n",
    "        else:\n",
    "            retDict[lemmatizedKey] = value\n",
    "    return retDict;\n",
    "\n",
    "\n",
    "def nounDict(sortedDict):\n",
    "    retDict = {\"test\":-1}\n",
    "    for key, value in sortedDict.items():\n",
    "        if key in verbs:\n",
    "            if key in retDict:\n",
    "                retDict[key] = retDict[key] + value\n",
    "            else:\n",
    "                retDict[key] = value\n",
    "        return retDict;\n",
    "\n"
   ]
  },
  {
   "cell_type": "code",
   "execution_count": null,
   "metadata": {},
   "outputs": [],
   "source": [
    "path_to_json = 'Jsons/'\n",
    "json_files = [pos_json for pos_json in os.listdir(path_to_json) if pos_json.endswith('.json')]\n",
    "\n",
    "\n",
    "#logic for iteration.\n",
    "for file in json_files:\n",
    "    print(file)\n",
    "    data = pd.read_json(path_to_json+file, typ='series')\n",
    "    for review in data['Reviews']:         \n",
    "        rakeObj.extract_keywords_from_text(review['Content'])\n",
    "        dict1 = rakeObj.get_word_degrees()\n",
    "        lemmatizedDict1 = lemmatizedDict(dict1) #to lemmatize words\n",
    "        #nounDict1 = nounDict(lemmatizedDict1)\n",
    "        \n",
    "        sortedDict = dict(sorted(lemmatizedDict1.items(), key=operator.itemgetter(1),reverse=True)[:10])\n",
    "        appendDicts(bigDict,sortedDict) "
   ]
  },
  {
   "cell_type": "code",
   "execution_count": null,
   "metadata": {
    "scrolled": true
   },
   "outputs": [],
   "source": [
    "print(\"Total words: \"+len(bigDict))\n",
    "sortedDict = dict(sorted(bigDict.items(), key=operator.itemgetter(1),reverse=True)[:20])\n",
    "print(sortedDict)"
   ]
  }
 ],
 "metadata": {
  "kernelspec": {
   "display_name": "Python 3",
   "language": "python",
   "name": "python3"
  },
  "language_info": {
   "codemirror_mode": {
    "name": "ipython",
    "version": 3
   },
   "file_extension": ".py",
   "mimetype": "text/x-python",
   "name": "python",
   "nbconvert_exporter": "python",
   "pygments_lexer": "ipython3",
   "version": "3.6.1"
  }
 },
 "nbformat": 4,
 "nbformat_minor": 2
}
