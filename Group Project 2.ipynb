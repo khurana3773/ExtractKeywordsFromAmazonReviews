{
 "cells": [
  {
   "cell_type": "code",
   "execution_count": null,
   "metadata": {
    "collapsed": true
   },
   "outputs": [],
   "source": [
    "# get keywords\n",
    "\n",
    "phone = ['display','battery']\n",
    "batteryReviews = ['ok battery.'] \n",
    "pos = 0\n",
    "neg = 0"
   ]
  },
  {
   "cell_type": "code",
   "execution_count": null,
   "metadata": {},
   "outputs": [],
   "source": [
    "#scan for those keywords in the reviews\n",
    "import os, json\n",
    "import pandas as pd\n",
    "from nltk.tokenize import sent_tokenize\n",
    "\n",
    "\n",
    "\n",
    "\n",
    "path_to_json = 'Jsons2/'\n",
    "json_files = [pos_json for pos_json in os.listdir(path_to_json) if pos_json.endswith('.json')]\n",
    "\n",
    "\n",
    "\n",
    "#logic for iteration.\n",
    "for file in json_files:\n",
    "    \n",
    "    data = pd.read_json(path_to_json+file, typ='series')\n",
    "   # print(file,\"  \",data['ProductInfo']['Features'],\"  \",len(data['Reviews']) )\n",
    "    for review in data['Reviews']:   \n",
    "      #  if len(review) > 1588:\n",
    "            #rakeObj.extract_keywords_from_text(review['Content'])\n",
    "            reviewValue = review.get('Content')\n",
    "            if reviewValue is None:\n",
    "                continue\n",
    "            sent_tokenize_list = sent_tokenize(reviewValue)\n",
    "            for eachReview in sent_tokenize_list:\n",
    "                if \"battery\" in eachReview:\n",
    "                    batteryReviews.append(eachReview)\n",
    "                \n",
    "            #print(sent_tokenize_list)\n",
    "            \n",
    "            #dict1 = rakeObj.get_word_degrees()\n",
    "         #   print(\"dict1\",dict1)\n",
    "            #lemmatizedDict1 = lemmatizedDict(dict1) #to lemmatize words\n",
    "            #nounDict1 = nounDict(lemmatizedDict1)        \n",
    "            #sortedDict = dict(sorted(lemmatizedDict1.items(), key=operator.itemgetter(1),reverse=True)[:10])\n",
    "            #appendDicts(bigDict,sortedDict) "
   ]
  },
  {
   "cell_type": "code",
   "execution_count": null,
   "metadata": {},
   "outputs": [],
   "source": [
    "#see setiment pos> neg\n",
    "\n",
    "print(batteryReviews)"
   ]
  },
  {
   "cell_type": "code",
   "execution_count": null,
   "metadata": {
    "scrolled": false
   },
   "outputs": [],
   "source": [
    "import nltk\n",
    "from nltk.sentiment.vader import SentimentIntensityAnalyzer\n",
    "\n",
    "\n",
    "sid = SentimentIntensityAnalyzer()\n",
    "for sentence in batteryReviews:\n",
    "    print(sentence)\n",
    "    \n",
    "    ss = sid.polarity_scores(sentence)\n",
    "    if ss['pos'] >= ss['neg']:\n",
    "        pos = pos + 1\n",
    "    else:\n",
    "        neg = neg + 1\n",
    "    for k in ss:\n",
    "        print('{0}: {1}, '.format(k, ss[k]), end='')\n",
    "        \n",
    "    print()"
   ]
  },
  {
   "cell_type": "code",
   "execution_count": null,
   "metadata": {},
   "outputs": [],
   "source": [
    "print('positive : ',pos)\n",
    "print('negative',neg)"
   ]
  },
  {
   "cell_type": "code",
   "execution_count": 40,
   "metadata": {},
   "outputs": [
    {
     "ename": "TypeError",
     "evalue": "show_most_informative_features() missing 1 required positional argument: 'self'",
     "output_type": "error",
     "traceback": [
      "\u001b[1;31m---------------------------------------------------------------------------\u001b[0m",
      "\u001b[1;31mTypeError\u001b[0m                                 Traceback (most recent call last)",
      "\u001b[1;32m<ipython-input-40-ea7a7ca1a526>\u001b[0m in \u001b[0;36m<module>\u001b[1;34m()\u001b[0m\n\u001b[1;32m----> 1\u001b[1;33m \u001b[0mnltk\u001b[0m\u001b[1;33m.\u001b[0m\u001b[0mNaiveBayesClassifier\u001b[0m\u001b[1;33m.\u001b[0m\u001b[0mshow_most_informative_features\u001b[0m\u001b[1;33m(\u001b[0m\u001b[1;33m)\u001b[0m\u001b[1;33m\u001b[0m\u001b[0m\n\u001b[0m",
      "\u001b[1;31mTypeError\u001b[0m: show_most_informative_features() missing 1 required positional argument: 'self'"
     ]
    }
   ],
   "source": [
    " nltk.NaiveBayesClassifier.show_most_informative_features()"
   ]
  },
  {
   "cell_type": "code",
   "execution_count": null,
   "metadata": {
    "collapsed": true
   },
   "outputs": [],
   "source": []
  }
 ],
 "metadata": {
  "kernelspec": {
   "display_name": "Python 3",
   "language": "python",
   "name": "python3"
  },
  "language_info": {
   "codemirror_mode": {
    "name": "ipython",
    "version": 3
   },
   "file_extension": ".py",
   "mimetype": "text/x-python",
   "name": "python",
   "nbconvert_exporter": "python",
   "pygments_lexer": "ipython3",
   "version": "3.6.1"
  }
 },
 "nbformat": 4,
 "nbformat_minor": 2
}
